{
  "nbformat": 4,
  "nbformat_minor": 0,
  "metadata": {
    "kernelspec": {
      "display_name": "Python 3",
      "language": "python",
      "name": "python3"
    },
    "language_info": {
      "codemirror_mode": {
        "name": "ipython",
        "version": 3
      },
      "file_extension": ".py",
      "mimetype": "text/x-python",
      "name": "python",
      "nbconvert_exporter": "python",
      "pygments_lexer": "ipython3",
      "version": "3.8.5"
    },
    "colab": {
      "name": "Syllabusparser.ipynb",
      "provenance": [],
      "collapsed_sections": [],
      "include_colab_link": true
    }
  },
  "cells": [
    {
      "cell_type": "markdown",
      "metadata": {
        "id": "view-in-github",
        "colab_type": "text"
      },
      "source": [
        "<a href=\"https://colab.research.google.com/github/NeelGhoshal/syllabusparsing/blob/main/Syllabusparser.ipynb\" target=\"_parent\"><img src=\"https://colab.research.google.com/assets/colab-badge.svg\" alt=\"Open In Colab\"/></a>"
      ]
    },
    {
      "cell_type": "code",
      "metadata": {
        "id": "cU9wL40jufRB",
        "colab": {
          "base_uri": "https://localhost:8080/"
        },
        "outputId": "b07b16a2-6e59-47b5-f38f-30296a3dfa37"
      },
      "source": [
        "pip install pdfminer.six"
      ],
      "execution_count": null,
      "outputs": [
        {
          "output_type": "stream",
          "name": "stdout",
          "text": [
            "Collecting pdfminer.six\n",
            "  Downloading pdfminer.six-20211012-py3-none-any.whl (5.6 MB)\n",
            "\u001b[K     |████████████████████████████████| 5.6 MB 5.1 MB/s \n",
            "\u001b[?25hRequirement already satisfied: chardet in /usr/local/lib/python3.7/dist-packages (from pdfminer.six) (3.0.4)\n",
            "Collecting cryptography\n",
            "  Downloading cryptography-36.0.1-cp36-abi3-manylinux_2_24_x86_64.whl (3.6 MB)\n",
            "\u001b[K     |████████████████████████████████| 3.6 MB 30.6 MB/s \n",
            "\u001b[?25hRequirement already satisfied: cffi>=1.12 in /usr/local/lib/python3.7/dist-packages (from cryptography->pdfminer.six) (1.15.0)\n",
            "Requirement already satisfied: pycparser in /usr/local/lib/python3.7/dist-packages (from cffi>=1.12->cryptography->pdfminer.six) (2.21)\n",
            "Installing collected packages: cryptography, pdfminer.six\n",
            "Successfully installed cryptography-36.0.1 pdfminer.six-20211012\n"
          ]
        }
      ]
    },
    {
      "cell_type": "code",
      "metadata": {
        "id": "qIlVQ9_MuVDH"
      },
      "source": [
        "import io\n",
        "from pdfminer.converter import TextConverter\n",
        "from pdfminer.pdfinterp import PDFPageInterpreter\n",
        "from pdfminer.pdfinterp import PDFResourceManager\n",
        "from pdfminer.pdfpage import PDFPage\n",
        "  \n",
        "  \n",
        "def extract_text_by_page(pdf_path):\n",
        "  \n",
        "    with open(pdf_path, 'rb') as fh:\n",
        "          \n",
        "        for page in PDFPage.get_pages(fh, \n",
        "                                      caching=True,\n",
        "                                      check_extractable=True):\n",
        "              \n",
        "            resource_manager = PDFResourceManager()\n",
        "            fake_file_handle = io.StringIO()\n",
        "              \n",
        "            converter = TextConverter(resource_manager, \n",
        "                                      fake_file_handle)\n",
        "              \n",
        "            page_interpreter = PDFPageInterpreter(resource_manager,\n",
        "                                                  converter)\n",
        "              \n",
        "            page_interpreter.process_page(page)\n",
        "            text = fake_file_handle.getvalue()\n",
        "              \n",
        "            yield text\n",
        "              \n",
        "            # close open handles\n",
        "            converter.close()\n",
        "            fake_file_handle.close()\n",
        "              \n",
        "def extract_text(pdf_path):\n",
        "    pages=[]\n",
        "    for page in extract_text_by_page(pdf_path):\n",
        "        pages.append(page)\n",
        "    return pages\n",
        "data = extract_text(\"HCIsyll.pdf\")"
      ],
      "execution_count": null,
      "outputs": []
    },
    {
      "cell_type": "code",
      "metadata": {
        "colab": {
          "base_uri": "https://localhost:8080/",
          "height": 191
        },
        "id": "ab-ngb9Py5Ny",
        "outputId": "e3fe2000-dbc6-419f-aec7-14a3dbfa01c0"
      },
      "source": [
        "data[0]"
      ],
      "execution_count": null,
      "outputs": [
        {
          "output_type": "execute_result",
          "data": {
            "application/vnd.google.colaboratory.intrinsic+json": {
              "type": "string"
            },
            "text/plain": [
              "\"CSE4015 HUMAN COMPUTER INTERACTION L T P J C   3 0 0 4 4 Pre-requisite Nil Syllabus version Anti Requisite ITE1014 1.0 Course Objectives: 1. To provide the basic knowledge on the levels of interaction, design models, techniques and validations focusing on the different aspects of human-computer interface and interactions 2. To make the learners to think in design perspective and to evaluate interactive design 3. To use the concepts and principles of HCI to analyze and propose solution for real life applications 4. To become familiar with recent technology trends and challenges in HCI domain Expected Course Outcome:  1. Enumerate the basic concepts of human, computer interactions  2. Create the processes of human computer interaction life cycle 3. Analyze and design the various interaction design models 4. Apply the interface design standards/guidelines for evaluating the developed interactions 5. Establish the different levels of communication across the application stakeholders 6. Apply product usability evaluations and testing methods 7. Demonstrate the principles of human computer interactions through the prototype modelling Student Learning Outcomes (SLO): 5, 8, 17 Module:1  HCI FOUNDATIONS   6 hours  Input–output channels, Human memory, Thinking: reasoning and problem solving, Emotion, Individual differences, Psychology and the design of interactive systems, Text entry devices, Positioning, pointing and drawing, Display devices, Devices for virtual reality and 3D interaction, Physical controls, sensors and special devices, Paper: printing and scanning   Module:2  DESIGNING INTERACTION   6 hours  Overview of Interaction Design Models, Discovery - Framework, Collection - Observation, Elicitation, Interpretation - Task Analysis, Storyboarding, Use Cases, Primary Stakeholder Profiles, Project Management Document   Module:3 INTERACTION DESIGN MODELS   8 hours Model Human Processor - Working Memory, Long-Term Memory, Processor Timing, Keyboard Level Model - Operators, Encoding Methods, Heuristics for M Operator Placement, What the Keyboard Level Model Does Not Model, Application of the Keyboard Level Model, GOMS - CMN-GOMS Analysis, Modeling Structure, State Transition Networks - Three-State Model, Glimpse Model, Physical Models, Fitts’ Law  Module:4 GUIDE LINES IN HCI   6 hours Shneideman's eight golden rules, Norman's Sever principles, Norman's model of interaction, Nielsen's ten heuristics, Heuristic evaluation, contextual evaluation, Cognitive walk-through  Module:5 COLLABORATION AND COMMUNICATION  5 hours Face-to-face Communication, Conversation, Text-based Communication, Group working, Dialog design notations, Diagrammatic notations, Textual dialog notations, Dialog semantics, Dialog analysis and design  Module:6 HUMAN FACTORS AND SECURITY  6 hours Groupware, Meeting and decision support systems, Shared applications and artifacts, Frameworks for groupware Implementing synchronous groupware, Mixed, Augmented and Virtual Reality  Module:7 VALIDATION AND ADVANCED CONCEPTS  6 hours \\x0c\""
            ]
          },
          "metadata": {},
          "execution_count": 3
        }
      ]
    },
    {
      "cell_type": "code",
      "metadata": {
        "colab": {
          "base_uri": "https://localhost:8080/",
          "height": 191
        },
        "id": "OjSBKZW911_g",
        "outputId": "0f09b083-bbae-4c9d-f578-606ba676ff93"
      },
      "source": [
        "data1 = data[0] + data[1]\n",
        "data1"
      ],
      "execution_count": null,
      "outputs": [
        {
          "output_type": "execute_result",
          "data": {
            "application/vnd.google.colaboratory.intrinsic+json": {
              "type": "string"
            },
            "text/plain": [
              "\"CSE4015 HUMAN COMPUTER INTERACTION L T P J C   3 0 0 4 4 Pre-requisite Nil Syllabus version Anti Requisite ITE1014 1.0 Course Objectives: 1. To provide the basic knowledge on the levels of interaction, design models, techniques and validations focusing on the different aspects of human-computer interface and interactions 2. To make the learners to think in design perspective and to evaluate interactive design 3. To use the concepts and principles of HCI to analyze and propose solution for real life applications 4. To become familiar with recent technology trends and challenges in HCI domain Expected Course Outcome:  1. Enumerate the basic concepts of human, computer interactions  2. Create the processes of human computer interaction life cycle 3. Analyze and design the various interaction design models 4. Apply the interface design standards/guidelines for evaluating the developed interactions 5. Establish the different levels of communication across the application stakeholders 6. Apply product usability evaluations and testing methods 7. Demonstrate the principles of human computer interactions through the prototype modelling Student Learning Outcomes (SLO): 5, 8, 17 Module:1  HCI FOUNDATIONS   6 hours  Input–output channels, Human memory, Thinking: reasoning and problem solving, Emotion, Individual differences, Psychology and the design of interactive systems, Text entry devices, Positioning, pointing and drawing, Display devices, Devices for virtual reality and 3D interaction, Physical controls, sensors and special devices, Paper: printing and scanning   Module:2  DESIGNING INTERACTION   6 hours  Overview of Interaction Design Models, Discovery - Framework, Collection - Observation, Elicitation, Interpretation - Task Analysis, Storyboarding, Use Cases, Primary Stakeholder Profiles, Project Management Document   Module:3 INTERACTION DESIGN MODELS   8 hours Model Human Processor - Working Memory, Long-Term Memory, Processor Timing, Keyboard Level Model - Operators, Encoding Methods, Heuristics for M Operator Placement, What the Keyboard Level Model Does Not Model, Application of the Keyboard Level Model, GOMS - CMN-GOMS Analysis, Modeling Structure, State Transition Networks - Three-State Model, Glimpse Model, Physical Models, Fitts’ Law  Module:4 GUIDE LINES IN HCI   6 hours Shneideman's eight golden rules, Norman's Sever principles, Norman's model of interaction, Nielsen's ten heuristics, Heuristic evaluation, contextual evaluation, Cognitive walk-through  Module:5 COLLABORATION AND COMMUNICATION  5 hours Face-to-face Communication, Conversation, Text-based Communication, Group working, Dialog design notations, Diagrammatic notations, Textual dialog notations, Dialog semantics, Dialog analysis and design  Module:6 HUMAN FACTORS AND SECURITY  6 hours Groupware, Meeting and decision support systems, Shared applications and artifacts, Frameworks for groupware Implementing synchronous groupware, Mixed, Augmented and Virtual Reality  Module:7 VALIDATION AND ADVANCED CONCEPTS  6 hours \\x0cValidations - Usability testing, Interface Testing, User Acceptance Testing  Past and future of HCI: the past, present and future, perceptual interfaces, context-awareness and perception  Module:8 RECENT TRENDS 2 hours   Total Lecture hours: 45 hours  Text Book(s) 1. A Dix, Janet Finlay, G D Abowd, R Beale., Human-Computer Interaction, 3rd Edition, Pearson Publishers,2008 Reference Books 1. Shneiderman, Plaisant, Cohen and Jacobs, Designing the User Interface: Strategies for Effective Human Computer Interaction, 5th Edition, Pearson Publishers, 2010.  2 Hans-Jorg Bullinger,” Human-Computer Interaction”, Lawrence Erlbaum Associates, Publishers  3 Jakob Nielsen,” Advances in Human-computer Interaction”,Ablex Publishing Corporation 4 Thomas S. Huang,” Real-Time Vision for Human-Computer Interaction”, Springer 5 Preece et al, Human-Computer Interaction, Addison-Wesley, 1994 Mode of Evaluation: CAT / Assignment / Quiz / FAT / Project / Seminar Recommended by Board of Studies 04-04-2014 Approved by Academic Council No. 37 Date 16-06-2015  \\x0c\""
            ]
          },
          "metadata": {},
          "execution_count": 4
        }
      ]
    },
    {
      "cell_type": "code",
      "metadata": {
        "colab": {
          "base_uri": "https://localhost:8080/",
          "height": 53
        },
        "id": "eFmNoRZmTeVR",
        "outputId": "526f7448-62ff-4b3b-f434-fe6ccca33d7b"
      },
      "source": [
        "#regex\n",
        "import re\n",
        "coursecode=[]\n",
        "\n",
        "coursecodepattern=\"[A-Z]{3}[0-9]{4}\"\n",
        "\n",
        "if(re.search(coursecodepattern , data[0])):\n",
        "  print(\"code found\")\n",
        "\n",
        "x=re.findall(coursecodepattern , data[0])\n",
        "\n",
        "coursecode.append(x)\n",
        "\n",
        "coursecode[0][0]\n"
      ],
      "execution_count": null,
      "outputs": [
        {
          "output_type": "stream",
          "name": "stdout",
          "text": [
            "code found\n"
          ]
        },
        {
          "output_type": "execute_result",
          "data": {
            "application/vnd.google.colaboratory.intrinsic+json": {
              "type": "string"
            },
            "text/plain": [
              "'CSE4015'"
            ]
          },
          "metadata": {},
          "execution_count": 5
        }
      ]
    },
    {
      "cell_type": "code",
      "metadata": {
        "colab": {
          "base_uri": "https://localhost:8080/"
        },
        "id": "0i__XKHLuCwp",
        "outputId": "c4e782cb-7c42-412e-d1ca-1dc63e6d5ba4"
      },
      "source": [
        "splitted_text = data1.split('Module:' )\n",
        "splitted_text"
      ],
      "execution_count": null,
      "outputs": [
        {
          "output_type": "execute_result",
          "data": {
            "text/plain": [
              "['CSE4015 HUMAN COMPUTER INTERACTION L T P J C   3 0 0 4 4 Pre-requisite Nil Syllabus version Anti Requisite ITE1014 1.0 Course Objectives: 1. To provide the basic knowledge on the levels of interaction, design models, techniques and validations focusing on the different aspects of human-computer interface and interactions 2. To make the learners to think in design perspective and to evaluate interactive design 3. To use the concepts and principles of HCI to analyze and propose solution for real life applications 4. To become familiar with recent technology trends and challenges in HCI domain Expected Course Outcome:  1. Enumerate the basic concepts of human, computer interactions  2. Create the processes of human computer interaction life cycle 3. Analyze and design the various interaction design models 4. Apply the interface design standards/guidelines for evaluating the developed interactions 5. Establish the different levels of communication across the application stakeholders 6. Apply product usability evaluations and testing methods 7. Demonstrate the principles of human computer interactions through the prototype modelling Student Learning Outcomes (SLO): 5, 8, 17 ',\n",
              " '1  HCI FOUNDATIONS   6 hours  Input–output channels, Human memory, Thinking: reasoning and problem solving, Emotion, Individual differences, Psychology and the design of interactive systems, Text entry devices, Positioning, pointing and drawing, Display devices, Devices for virtual reality and 3D interaction, Physical controls, sensors and special devices, Paper: printing and scanning   ',\n",
              " '2  DESIGNING INTERACTION   6 hours  Overview of Interaction Design Models, Discovery - Framework, Collection - Observation, Elicitation, Interpretation - Task Analysis, Storyboarding, Use Cases, Primary Stakeholder Profiles, Project Management Document   ',\n",
              " '3 INTERACTION DESIGN MODELS   8 hours Model Human Processor - Working Memory, Long-Term Memory, Processor Timing, Keyboard Level Model - Operators, Encoding Methods, Heuristics for M Operator Placement, What the Keyboard Level Model Does Not Model, Application of the Keyboard Level Model, GOMS - CMN-GOMS Analysis, Modeling Structure, State Transition Networks - Three-State Model, Glimpse Model, Physical Models, Fitts’ Law  ',\n",
              " \"4 GUIDE LINES IN HCI   6 hours Shneideman's eight golden rules, Norman's Sever principles, Norman's model of interaction, Nielsen's ten heuristics, Heuristic evaluation, contextual evaluation, Cognitive walk-through  \",\n",
              " '5 COLLABORATION AND COMMUNICATION  5 hours Face-to-face Communication, Conversation, Text-based Communication, Group working, Dialog design notations, Diagrammatic notations, Textual dialog notations, Dialog semantics, Dialog analysis and design  ',\n",
              " '6 HUMAN FACTORS AND SECURITY  6 hours Groupware, Meeting and decision support systems, Shared applications and artifacts, Frameworks for groupware Implementing synchronous groupware, Mixed, Augmented and Virtual Reality  ',\n",
              " '7 VALIDATION AND ADVANCED CONCEPTS  6 hours \\x0cValidations - Usability testing, Interface Testing, User Acceptance Testing  Past and future of HCI: the past, present and future, perceptual interfaces, context-awareness and perception  ',\n",
              " '8 RECENT TRENDS 2 hours   Total Lecture hours: 45 hours  Text Book(s) 1. A Dix, Janet Finlay, G D Abowd, R Beale., Human-Computer Interaction, 3rd Edition, Pearson Publishers,2008 Reference Books 1. Shneiderman, Plaisant, Cohen and Jacobs, Designing the User Interface: Strategies for Effective Human Computer Interaction, 5th Edition, Pearson Publishers, 2010.  2 Hans-Jorg Bullinger,” Human-Computer Interaction”, Lawrence Erlbaum Associates, Publishers  3 Jakob Nielsen,” Advances in Human-computer Interaction”,Ablex Publishing Corporation 4 Thomas S. Huang,” Real-Time Vision for Human-Computer Interaction”, Springer 5 Preece et al, Human-Computer Interaction, Addison-Wesley, 1994 Mode of Evaluation: CAT / Assignment / Quiz / FAT / Project / Seminar Recommended by Board of Studies 04-04-2014 Approved by Academic Council No. 37 Date 16-06-2015  \\x0c']"
            ]
          },
          "metadata": {},
          "execution_count": 6
        }
      ]
    },
    {
      "cell_type": "code",
      "metadata": {
        "colab": {
          "base_uri": "https://localhost:8080/"
        },
        "id": "irsqG9weEnpS",
        "outputId": "aed4b591-4fdd-41fa-b1a5-64054e86d37f"
      },
      "source": [
        "#textbooks\n",
        "a = splitted_text[8].split('Text Book(s)')  #\n",
        "b = a[1].split('Reference Books')\n",
        "b\n",
        "\n",
        "\n"
      ],
      "execution_count": null,
      "outputs": [
        {
          "output_type": "execute_result",
          "data": {
            "text/plain": [
              "[' 1. A Dix, Janet Finlay, G D Abowd, R Beale., Human-Computer Interaction, 3rd Edition, Pearson Publishers,2008 ',\n",
              " ' 1. Shneiderman, Plaisant, Cohen and Jacobs, Designing the User Interface: Strategies for Effective Human Computer Interaction, 5th Edition, Pearson Publishers, 2010.  2 Hans-Jorg Bullinger,” Human-Computer Interaction”, Lawrence Erlbaum Associates, Publishers  3 Jakob Nielsen,” Advances in Human-computer Interaction”,Ablex Publishing Corporation 4 Thomas S. Huang,” Real-Time Vision for Human-Computer Interaction”, Springer 5 Preece et al, Human-Computer Interaction, Addison-Wesley, 1994 Mode of Evaluation: CAT / Assignment / Quiz / FAT / Project / Seminar Recommended by Board of Studies 04-04-2014 Approved by Academic Council No. 37 Date 16-06-2015  \\x0c']"
            ]
          },
          "metadata": {},
          "execution_count": 7
        }
      ]
    },
    {
      "cell_type": "code",
      "metadata": {
        "colab": {
          "base_uri": "https://localhost:8080/"
        },
        "id": "LfzTXbPevix3",
        "outputId": "979aea4e-2912-4998-968b-f835a349c365"
      },
      "source": [
        "# pattern = \"[\\s][0-9][\\.\\s][\\s\\,\\.a-zA-Z0-9]+[\\:]?[\\s\\,\\.a-zA-Z0-9]+[\\s]{2}\"\n",
        "\n",
        "x = re.split(r\"[\\s][0-9][\\.\\s]\" , b[1])\n",
        "x\n",
        "\n"
      ],
      "execution_count": null,
      "outputs": [
        {
          "output_type": "execute_result",
          "data": {
            "text/plain": [
              "['',\n",
              " ' Shneiderman, Plaisant, Cohen and Jacobs, Designing the User Interface: Strategies for Effective Human Computer Interaction, 5th Edition, Pearson Publishers, 2010. ',\n",
              " 'Hans-Jorg Bullinger,” Human-Computer Interaction”, Lawrence Erlbaum Associates, Publishers ',\n",
              " 'Jakob Nielsen,” Advances in Human-computer Interaction”,Ablex Publishing Corporation',\n",
              " 'Thomas S. Huang,” Real-Time Vision for Human-Computer Interaction”, Springer',\n",
              " 'Preece et al, Human-Computer Interaction, Addison-Wesley, 1994 Mode of Evaluation: CAT / Assignment / Quiz / FAT / Project / Seminar Recommended by Board of Studies 04-04-2014 Approved by Academic Council No. 37 Date 16-06-2015  \\x0c']"
            ]
          },
          "metadata": {},
          "execution_count": 8
        }
      ]
    },
    {
      "cell_type": "code",
      "metadata": {
        "colab": {
          "base_uri": "https://localhost:8080/"
        },
        "id": "L27lkSyDzYcu",
        "outputId": "d9563b60-7de6-427e-e5b9-7dbad75632b2"
      },
      "source": [
        "RefBooks = []\n",
        "for y in range(0,len(x)-1,1):\n",
        "  RefBooks.append(x[y])\n",
        "RefBooks\n",
        "\n",
        "\n",
        "\n",
        "\n"
      ],
      "execution_count": null,
      "outputs": [
        {
          "output_type": "execute_result",
          "data": {
            "text/plain": [
              "['',\n",
              " ' Shneiderman, Plaisant, Cohen and Jacobs, Designing the User Interface: Strategies for Effective Human Computer Interaction, 5th Edition, Pearson Publishers, 2010. ',\n",
              " 'Hans-Jorg Bullinger,” Human-Computer Interaction”, Lawrence Erlbaum Associates, Publishers ',\n",
              " 'Jakob Nielsen,” Advances in Human-computer Interaction”,Ablex Publishing Corporation',\n",
              " 'Thomas S. Huang,” Real-Time Vision for Human-Computer Interaction”, Springer']"
            ]
          },
          "metadata": {},
          "execution_count": 9
        }
      ]
    },
    {
      "cell_type": "code",
      "metadata": {
        "colab": {
          "base_uri": "https://localhost:8080/"
        },
        "id": "2WdL915R2j_U",
        "outputId": "1e0c5238-b47c-47fc-e7a5-80755f102a8b"
      },
      "source": [
        " c = x[-1].split('Mode of Evaluation:')\n",
        " c[0]\n",
        " RefBooks.append(c[0])\n",
        " RefBooks             "
      ],
      "execution_count": null,
      "outputs": [
        {
          "output_type": "execute_result",
          "data": {
            "text/plain": [
              "['',\n",
              " ' Shneiderman, Plaisant, Cohen and Jacobs, Designing the User Interface: Strategies for Effective Human Computer Interaction, 5th Edition, Pearson Publishers, 2010. ',\n",
              " 'Hans-Jorg Bullinger,” Human-Computer Interaction”, Lawrence Erlbaum Associates, Publishers ',\n",
              " 'Jakob Nielsen,” Advances in Human-computer Interaction”,Ablex Publishing Corporation',\n",
              " 'Thomas S. Huang,” Real-Time Vision for Human-Computer Interaction”, Springer',\n",
              " 'Preece et al, Human-Computer Interaction, Addison-Wesley, 1994 ']"
            ]
          },
          "metadata": {},
          "execution_count": 10
        }
      ]
    },
    {
      "cell_type": "code",
      "metadata": {
        "id": "RgOFik5husRu"
      },
      "source": [
        "# #module 1\n",
        "# topics1 = []\n",
        "# topics_pattern = \"[\\sa-zA-Z0-9\\s-]+\\,\"\n",
        "\n",
        "\n",
        "# x=re.findall( topics_pattern , splitted_text[1])\n",
        "\n",
        "# topics1.append(x)\n",
        "\n",
        "# topics1[0]\n",
        "\n",
        "# topics_pattern1 = \"\\,[\\sa-zA-Z0-9\\s-]+\"\n",
        "\n",
        "\n",
        "\n",
        "\n",
        "\n"
      ],
      "execution_count": null,
      "outputs": []
    },
    {
      "cell_type": "code",
      "metadata": {
        "colab": {
          "base_uri": "https://localhost:8080/"
        },
        "id": "vLddHZSQmZh_",
        "outputId": "57f28296-ec69-4807-83a3-4bb5c33d0a4f"
      },
      "source": [
        "#Module Topics\n",
        "\n",
        "All_topics = []\n",
        "for x in range(1,8):\n",
        "    \n",
        "    TOPICS = []\n",
        "    y = splitted_text[x].split(',')\n",
        "    \n",
        "    z = y[0].split('hours')\n",
        "\n",
        "    TOPICS.append(z[1])\n",
        "\n",
        "    for x in range(1,len(y)):\n",
        "      TOPICS.append(y[x])\n",
        "    All_topics.append(TOPICS)\n",
        "\n",
        "    \n",
        "    # ModuleDict = {}\n",
        "    # # keys = range(1,8)\n",
        "    # # for i in keys:\n",
        "    # ModuleDict[x] = TOPICS\n",
        "\n",
        "# for key , value in ModuleDict.items():\n",
        "#   print(key , value)\n",
        "\n",
        "All_topics\n",
        "\n",
        "\n",
        "\n",
        "\n"
      ],
      "execution_count": null,
      "outputs": [
        {
          "output_type": "execute_result",
          "data": {
            "text/plain": [
              "[['  Input–output channels',\n",
              "  ' Human memory',\n",
              "  ' Thinking: reasoning and problem solving',\n",
              "  ' Emotion',\n",
              "  ' Individual differences',\n",
              "  ' Psychology and the design of interactive systems',\n",
              "  ' Text entry devices',\n",
              "  ' Positioning',\n",
              "  ' pointing and drawing',\n",
              "  ' Display devices',\n",
              "  ' Devices for virtual reality and 3D interaction',\n",
              "  ' Physical controls',\n",
              "  ' sensors and special devices',\n",
              "  ' Paper: printing and scanning   '],\n",
              " ['  Overview of Interaction Design Models',\n",
              "  ' Discovery - Framework',\n",
              "  ' Collection - Observation',\n",
              "  ' Elicitation',\n",
              "  ' Interpretation - Task Analysis',\n",
              "  ' Storyboarding',\n",
              "  ' Use Cases',\n",
              "  ' Primary Stakeholder Profiles',\n",
              "  ' Project Management Document   '],\n",
              " [' Model Human Processor - Working Memory',\n",
              "  ' Long-Term Memory',\n",
              "  ' Processor Timing',\n",
              "  ' Keyboard Level Model - Operators',\n",
              "  ' Encoding Methods',\n",
              "  ' Heuristics for M Operator Placement',\n",
              "  ' What the Keyboard Level Model Does Not Model',\n",
              "  ' Application of the Keyboard Level Model',\n",
              "  ' GOMS - CMN-GOMS Analysis',\n",
              "  ' Modeling Structure',\n",
              "  ' State Transition Networks - Three-State Model',\n",
              "  ' Glimpse Model',\n",
              "  ' Physical Models',\n",
              "  ' Fitts’ Law  '],\n",
              " [\" Shneideman's eight golden rules\",\n",
              "  \" Norman's Sever principles\",\n",
              "  \" Norman's model of interaction\",\n",
              "  \" Nielsen's ten heuristics\",\n",
              "  ' Heuristic evaluation',\n",
              "  ' contextual evaluation',\n",
              "  ' Cognitive walk-through  '],\n",
              " [' Face-to-face Communication',\n",
              "  ' Conversation',\n",
              "  ' Text-based Communication',\n",
              "  ' Group working',\n",
              "  ' Dialog design notations',\n",
              "  ' Diagrammatic notations',\n",
              "  ' Textual dialog notations',\n",
              "  ' Dialog semantics',\n",
              "  ' Dialog analysis and design  '],\n",
              " [' Groupware',\n",
              "  ' Meeting and decision support systems',\n",
              "  ' Shared applications and artifacts',\n",
              "  ' Frameworks for groupware Implementing synchronous groupware',\n",
              "  ' Mixed',\n",
              "  ' Augmented and Virtual Reality  '],\n",
              " [' \\x0cValidations - Usability testing',\n",
              "  ' Interface Testing',\n",
              "  ' User Acceptance Testing  Past and future of HCI: the past',\n",
              "  ' present and future',\n",
              "  ' perceptual interfaces',\n",
              "  ' context-awareness and perception  ']]"
            ]
          },
          "metadata": {},
          "execution_count": 12
        }
      ]
    },
    {
      "cell_type": "code",
      "metadata": {
        "id": "8_qs8bINynz9",
        "outputId": "4b3edcaf-0720-41b6-bee9-d14ed9e74274",
        "colab": {
          "base_uri": "https://localhost:8080/"
        }
      },
      "source": [
        "#credit components\n",
        "\n",
        "credits = []\n",
        "\n",
        "credit_pattern = \"\\d.\\d.\\d.\\d.\\d\"\n",
        "\n",
        "x=re.findall( credit_pattern , splitted_text[0])\n",
        "\n",
        "credits.append(x)\n",
        "\n",
        "credits[0]\n",
        "\n",
        "credits[0][0]\n",
        "\n",
        "credits[0][0].split()\n"
      ],
      "execution_count": null,
      "outputs": [
        {
          "output_type": "execute_result",
          "data": {
            "text/plain": [
              "['3', '0', '0', '4', '4']"
            ]
          },
          "metadata": {},
          "execution_count": 13
        }
      ]
    }
  ]
}